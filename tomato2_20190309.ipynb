{
 "cells": [
  {
   "cell_type": "code",
   "execution_count": 74,
   "metadata": {},
   "outputs": [],
   "source": [
    "## DFS 런타임 오류\n",
    "import sys\n",
    "def dfs(start_h, start_n, start_m):\n",
    "    for _ in range(6):\n",
    "        next_h = start_h + dh[_]\n",
    "        next_n = start_n + dn[_]\n",
    "        next_m = start_m + dm[_]\n",
    "        if next_h >= 0 and next_h < H and next_n >= 0 and next_n < N and next_m >= 0 and next_m < M:\n",
    "            if box[next_h][next_n][next_m] > box[start_h][start_n][start_m] + 1:\n",
    "                box[next_h][next_n][next_m] = box[start_h][start_n][start_m] + 1\n",
    "                dfs(next_h, next_n, next_m)"
   ]
  },
  {
   "cell_type": "code",
   "execution_count": 87,
   "metadata": {},
   "outputs": [
    {
     "name": "stdout",
     "output_type": "stream",
     "text": [
      "4 3 2\n",
      "1 1 1 1\n",
      "1 1 1 1\n",
      "1 1 1 1\n",
      "1 1 1 1\n",
      "-1 -1 -1 -1\n",
      "1 1 1 1\n",
      "0\n"
     ]
    }
   ],
   "source": [
    "M, N, H = map(int, input().split())\n",
    "box = []\n",
    "for i in range(H):\n",
    "    temp = []\n",
    "    for j in range(N):\n",
    "        temp.append([int(_) for _ in input().split()])\n",
    "    box.append(temp)\n",
    "\n",
    "dh = [1, -1, 0, 0, 0, 0]\n",
    "dn = [0, 0, 1, -1, 0, 0]\n",
    "dm = [0, 0, 0, 0, 1, -1]\n",
    "\n",
    "for h in range(H):\n",
    "    for n in range(N):\n",
    "        for m in range(M):\n",
    "            if box[h][n][m] == 0:\n",
    "                box[h][n][m] = sys.maxsize\n",
    "            elif box[h][n][m] == 1:\n",
    "                box[h][n][m] = 0\n",
    "for h in range(H):\n",
    "    for n in range(N):\n",
    "        for m in range(M):\n",
    "            if box[h][n][m] == 0:\n",
    "                dfs(h, n, m)\n",
    "if max(map(max, map(max, box))) == sys.maxsize:\n",
    "    print(-1)\n",
    "else:\n",
    "    print(max(map(max, map(max, box))))"
   ]
  },
  {
   "cell_type": "code",
   "execution_count": 1,
   "metadata": {},
   "outputs": [
    {
     "ename": "ValueError",
     "evalue": "not enough values to unpack (expected 3, got 0)",
     "output_type": "error",
     "traceback": [
      "\u001b[1;31m---------------------------------------------------------------------------\u001b[0m",
      "\u001b[1;31mValueError\u001b[0m                                Traceback (most recent call last)",
      "\u001b[1;32m<ipython-input-1-ad98836c3732>\u001b[0m in \u001b[0;36m<module>\u001b[1;34m()\u001b[0m\n\u001b[0;32m      6\u001b[0m \u001b[0mdn\u001b[0m \u001b[1;33m=\u001b[0m \u001b[1;33m[\u001b[0m\u001b[1;36m0\u001b[0m\u001b[1;33m,\u001b[0m \u001b[1;36m0\u001b[0m\u001b[1;33m,\u001b[0m \u001b[1;36m1\u001b[0m\u001b[1;33m,\u001b[0m \u001b[1;33m-\u001b[0m\u001b[1;36m1\u001b[0m\u001b[1;33m,\u001b[0m \u001b[1;36m0\u001b[0m\u001b[1;33m,\u001b[0m \u001b[1;36m0\u001b[0m\u001b[1;33m]\u001b[0m\u001b[1;33m\u001b[0m\u001b[0m\n\u001b[0;32m      7\u001b[0m \u001b[0mdm\u001b[0m \u001b[1;33m=\u001b[0m \u001b[1;33m[\u001b[0m\u001b[1;36m0\u001b[0m\u001b[1;33m,\u001b[0m \u001b[1;36m0\u001b[0m\u001b[1;33m,\u001b[0m \u001b[1;36m0\u001b[0m\u001b[1;33m,\u001b[0m \u001b[1;36m0\u001b[0m\u001b[1;33m,\u001b[0m \u001b[1;36m1\u001b[0m\u001b[1;33m,\u001b[0m \u001b[1;33m-\u001b[0m\u001b[1;36m1\u001b[0m\u001b[1;33m]\u001b[0m\u001b[1;33m\u001b[0m\u001b[0m\n\u001b[1;32m----> 8\u001b[1;33m \u001b[0mM\u001b[0m\u001b[1;33m,\u001b[0m \u001b[0mN\u001b[0m\u001b[1;33m,\u001b[0m \u001b[0mH\u001b[0m \u001b[1;33m=\u001b[0m \u001b[0mmap\u001b[0m\u001b[1;33m(\u001b[0m\u001b[0mint\u001b[0m\u001b[1;33m,\u001b[0m \u001b[0msys\u001b[0m\u001b[1;33m.\u001b[0m\u001b[0mstdin\u001b[0m\u001b[1;33m.\u001b[0m\u001b[0mreadline\u001b[0m\u001b[1;33m(\u001b[0m\u001b[1;33m)\u001b[0m\u001b[1;33m.\u001b[0m\u001b[0msplit\u001b[0m\u001b[1;33m(\u001b[0m\u001b[1;33m)\u001b[0m\u001b[1;33m)\u001b[0m\u001b[1;33m\u001b[0m\u001b[0m\n\u001b[0m\u001b[0;32m      9\u001b[0m \u001b[0mbox\u001b[0m \u001b[1;33m=\u001b[0m \u001b[1;33m[\u001b[0m\u001b[1;33m[\u001b[0m\u001b[0mlist\u001b[0m\u001b[1;33m(\u001b[0m\u001b[0mmap\u001b[0m\u001b[1;33m(\u001b[0m\u001b[0mint\u001b[0m\u001b[1;33m,\u001b[0m \u001b[0msys\u001b[0m\u001b[1;33m.\u001b[0m\u001b[0mstdin\u001b[0m\u001b[1;33m.\u001b[0m\u001b[0mreadline\u001b[0m\u001b[1;33m(\u001b[0m\u001b[1;33m)\u001b[0m\u001b[1;33m.\u001b[0m\u001b[0msplit\u001b[0m\u001b[1;33m(\u001b[0m\u001b[1;33m)\u001b[0m\u001b[1;33m)\u001b[0m\u001b[1;33m)\u001b[0m \u001b[1;32mfor\u001b[0m \u001b[0m_\u001b[0m \u001b[1;32min\u001b[0m \u001b[0mrange\u001b[0m\u001b[1;33m(\u001b[0m\u001b[0mN\u001b[0m\u001b[1;33m)\u001b[0m\u001b[1;33m]\u001b[0m \u001b[1;32mfor\u001b[0m \u001b[0m_\u001b[0m \u001b[1;32min\u001b[0m \u001b[0mrange\u001b[0m\u001b[1;33m(\u001b[0m\u001b[0mH\u001b[0m\u001b[1;33m)\u001b[0m\u001b[1;33m]\u001b[0m\u001b[1;33m\u001b[0m\u001b[0m\n\u001b[0;32m     10\u001b[0m \u001b[1;33m\u001b[0m\u001b[0m\n",
      "\u001b[1;31mValueError\u001b[0m: not enough values to unpack (expected 3, got 0)"
     ]
    }
   ],
   "source": [
    "## 제출한 BFS 코드 통과\n",
    "import sys\n",
    "from collections import deque\n",
    "\n",
    "dh = [1, -1, 0, 0, 0, 0]\n",
    "dn = [0, 0, 1, -1, 0, 0]\n",
    "dm = [0, 0, 0, 0, 1, -1]\n",
    "M, N, H = map(int, sys.stdin.readline().split())\n",
    "box = [[list(map(int, sys.stdin.readline().split())) for _ in range(N)] for _ in range(H)]\n",
    "\n",
    "q = deque()\n",
    "for h in range(H):\n",
    "    for n in range(N):\n",
    "        for m in range(M):\n",
    "            if box[h][n][m] == 1:\n",
    "                q.append((h, n, m))\n",
    "\n",
    "def bfs():\n",
    "    while q:\n",
    "        start_h, start_n, start_m = q.popleft()\n",
    "        for _ in range(6):\n",
    "            next_h = start_h + dh[_]\n",
    "            next_n = start_n + dn[_]\n",
    "            next_m = start_m + dm[_]\n",
    "            if next_h < 0 or next_h >= H or next_n < 0 or next_n >= N or next_m < 0 or next_m >= M:\n",
    "                continue\n",
    "            if box[next_h][next_n][next_m]:\n",
    "                continue\n",
    "            box[next_h][next_n][next_m] = box[start_h][start_n][start_m] + 1\n",
    "            q.append((next_h, next_n, next_m))\n",
    "\n",
    "def solve():\n",
    "    bfs()\n",
    "    ans = 0\n",
    "    for h in range(H):\n",
    "        for n in range(N):\n",
    "            if 0 in box[h][n]:\n",
    "                return -1\n",
    "            ans = max(ans, max(box[h][n]))\n",
    "    return ans-1\n",
    "print(solve())"
   ]
  },
  {
   "cell_type": "code",
   "execution_count": null,
   "metadata": {},
   "outputs": [],
   "source": [
    "##BFS 이전 코드\n",
    "import sys\n",
    "from collections import deque\n",
    "\n",
    "dh = [1, -1, 0, 0, 0, 0]\n",
    "dn = [0, 0, 1, -1, 0, 0]\n",
    "dm = [0, 0, 0, 0, 1, -1]\n",
    "M, N, H = map(int, input().split())\n",
    "box = []\n",
    "for i in range(H):\n",
    "    temp = []\n",
    "    for j in range(N):\n",
    "        temp.append([int(_) for _ in input().split()])\n",
    "    box.append(temp)\n",
    "\n",
    "q = deque()\n",
    "for h in range(H):\n",
    "    for n in range(N):\n",
    "        for m in range(M):\n",
    "            if box[h][n][m] == 1:\n",
    "                q.append((h, n, m))\n",
    "\n",
    "def bfs():\n",
    "    while q:\n",
    "        start_h, start_n, start_m = q.popleft()\n",
    "        for _ in range(6):\n",
    "            next_h = start_h + dh[_]\n",
    "            next_n = start_n + dn[_]\n",
    "            next_m = start_m + dm[_]\n",
    "            ##이부분이 틀림\n",
    "            if next_h >= 0 and next_h < H and next_n >= 0 and next_n < N and next_m >= 0 and next_m < M:\n",
    "                if box[next_h][next_n][next_m] > box[start_h][start_n][start_m] + 1:\n",
    "                    box[next_h][next_n][next_m] = box[start_h][start_n][start_m] + 1\n",
    "                    q.append((next_h, next_n, next_m))\n",
    "\n",
    "if max(map(max, map(max, box))) == sys.maxsize:\n",
    "    print(-1)\n",
    "else:\n",
    "    print(max(map(max, map(max, box))))\n",
    "            ##이 부분이 틀림"
   ]
  }
 ],
 "metadata": {
  "kernelspec": {
   "display_name": "Python 3",
   "language": "python",
   "name": "python3"
  },
  "language_info": {
   "codemirror_mode": {
    "name": "ipython",
    "version": 3
   },
   "file_extension": ".py",
   "mimetype": "text/x-python",
   "name": "python",
   "nbconvert_exporter": "python",
   "pygments_lexer": "ipython3",
   "version": "3.6.2"
  }
 },
 "nbformat": 4,
 "nbformat_minor": 2
}
