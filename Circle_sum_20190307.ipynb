{
 "cells": [
  {
   "cell_type": "code",
   "execution_count": 23,
   "metadata": {},
   "outputs": [
    {
     "name": "stdout",
     "output_type": "stream",
     "text": [
      "2\n",
      "8\n",
      "3 2 7 8 1 4 5 6\n",
      "3\n",
      "10\n",
      "2 1 3 4 5 6 7 9 10 8\n",
      "7\n"
     ]
    }
   ],
   "source": [
    "test = int(input())\n",
    "for i in range(test):\n",
    "    circle = 0\n",
    "    length = int(input())\n",
    "    array = [0] + [int(x) for x in input().split()]\n",
    "    visit = [0 for x in range(len(array))]\n",
    "\n",
    "    for i in range(1, length+1):\n",
    "        if visit[i] == 0:\n",
    "            temp = i\n",
    "            while (visit[temp] == 0):\n",
    "                visit[temp] = 1\n",
    "                temp = array[temp]\n",
    "            circle += 1\n",
    "\n",
    "    print(circle)"
   ]
  }
 ],
 "metadata": {
  "kernelspec": {
   "display_name": "Python 3",
   "language": "python",
   "name": "python3"
  },
  "language_info": {
   "codemirror_mode": {
    "name": "ipython",
    "version": 3
   },
   "file_extension": ".py",
   "mimetype": "text/x-python",
   "name": "python",
   "nbconvert_exporter": "python",
   "pygments_lexer": "ipython3",
   "version": "3.6.2"
  }
 },
 "nbformat": 4,
 "nbformat_minor": 2
}
