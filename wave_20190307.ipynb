{
 "cells": [
  {
   "cell_type": "code",
   "execution_count": 45,
   "metadata": {},
   "outputs": [],
   "source": [
    "def wave(test):\n",
    "    dp = [[0 for x in range(100)]] \n",
    "\n",
    "    dp[0][0] = 1\n",
    "    dp[0][1] = 1\n",
    "    dp[0][2] = 1\n",
    "    \n",
    "    for i in range(3, test):\n",
    "        dp[0][i] = dp[0][i-2] + dp[0][i-3]\n",
    "    \n",
    "    print(dp[0][test-1])"
   ]
  },
  {
   "cell_type": "code",
   "execution_count": 46,
   "metadata": {},
   "outputs": [
    {
     "name": "stdout",
     "output_type": "stream",
     "text": [
      "1\n",
      "12\n",
      "16\n"
     ]
    }
   ],
   "source": [
    "test = int(input())\n",
    "for i in range(test):\n",
    "    wave(int(input()))"
   ]
  }
 ],
 "metadata": {
  "kernelspec": {
   "display_name": "Python 3",
   "language": "python",
   "name": "python3"
  },
  "language_info": {
   "codemirror_mode": {
    "name": "ipython",
    "version": 3
   },
   "file_extension": ".py",
   "mimetype": "text/x-python",
   "name": "python",
   "nbconvert_exporter": "python",
   "pygments_lexer": "ipython3",
   "version": "3.6.2"
  }
 },
 "nbformat": 4,
 "nbformat_minor": 2
}
