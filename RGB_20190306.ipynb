{
 "cells": [
  {
   "cell_type": "code",
   "execution_count": 37,
   "metadata": {},
   "outputs": [],
   "source": [
    "def RGB(test, array):\n",
    "    dp = [[0 for i in range(3)] for j in range(test+1)]\n",
    "    dp[1] = array[0]\n",
    "    \n",
    "    for i in range(2, test+1):\n",
    "        for j in range(3):\n",
    "            if j == 0:\n",
    "                dp[i][j] = array[i-1][j] + min(dp[i-1][j+1], dp[i-1][j+2])\n",
    "            elif j == 1:\n",
    "                dp[i][j] = array[i-1][j] + min(dp[i-1][j-1], dp[i-1][j+1])\n",
    "            else:\n",
    "                dp[i][j] = array[i-1][j] + min(dp[i-1][j-1], dp[i-1][j-2])\n",
    "    \n",
    "    print(min(dp[test]))"
   ]
  },
  {
   "cell_type": "code",
   "execution_count": 38,
   "metadata": {},
   "outputs": [
    {
     "name": "stdout",
     "output_type": "stream",
     "text": [
      "3\n",
      "26 40 83\n",
      "49 60 57\n",
      "13 89 99\n",
      "96\n"
     ]
    }
   ],
   "source": [
    "array = []\n",
    "test = int(input())\n",
    "for i in range(test):\n",
    "    array.append([int(x) for x in input().split()])\n",
    "RGB(test, array)"
   ]
  }
 ],
 "metadata": {
  "kernelspec": {
   "display_name": "Python 3",
   "language": "python",
   "name": "python3"
  },
  "language_info": {
   "codemirror_mode": {
    "name": "ipython",
    "version": 3
   },
   "file_extension": ".py",
   "mimetype": "text/x-python",
   "name": "python",
   "nbconvert_exporter": "python",
   "pygments_lexer": "ipython3",
   "version": "3.6.2"
  }
 },
 "nbformat": 4,
 "nbformat_minor": 2
}
