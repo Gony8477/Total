{
 "cells": [
  {
   "cell_type": "code",
   "execution_count": 128,
   "metadata": {},
   "outputs": [
    {
     "name": "stdout",
     "output_type": "stream",
     "text": [
      "7\n",
      "0110100\n",
      "0110101\n",
      "1110101\n",
      "0000111\n",
      "0100000\n",
      "0111110\n",
      "0111000\n"
     ]
    }
   ],
   "source": [
    "# 29056KB 60ms\n",
    "def dfs(matrix, cnt, check_i, check_j):\n",
    "    if matrix[check_i][check_j] == 0:\n",
    "        return cnt\n",
    "    \n",
    "    cnt += 1\n",
    "    matrix[check_i][check_j] = 0\n",
    "    \n",
    "    di = [1, -1, 0, 0]\n",
    "    dj = [0, 0, 1, -1]\n",
    "    for _ in range(4):\n",
    "        ni = check_i + di[_]\n",
    "        nj = check_j + dj[_]\n",
    "        if ni >=0 and ni < n and nj >=0 and nj < n:\n",
    "            if matrix[ni][nj] == 1:\n",
    "                cnt = dfs(matrix, cnt, ni, nj)\n",
    "    return cnt\n",
    "\n",
    "n = int(input())\n",
    "apartment = []\n",
    "for _ in range(n):\n",
    "    x = input()\n",
    "    apartment.append([int(_) for _ in x])"
   ]
  },
  {
   "cell_type": "code",
   "execution_count": 125,
   "metadata": {},
   "outputs": [],
   "source": [
    "from collections import deque\n",
    "\n",
    "# 31508KB 76ms\n",
    "def bfs(apartment, cnt, check_i, check_j):\n",
    "    apartment[check_i][check_j] = 0\n",
    "    cnt += 1\n",
    "    q = deque()\n",
    "    q.append((check_i, check_j))\n",
    "    \n",
    "    di = [1, -1, 0, 0]\n",
    "    dj = [0, 0, 1, -1]\n",
    "    \n",
    "    while q:\n",
    "        check_i, check_j = q.popleft()\n",
    "        for _ in range(4):\n",
    "            ni = check_i + di[_]\n",
    "            nj = check_j + dj[_]\n",
    "            if ni >= 0 and ni < n and nj >= 0 and nj < n:\n",
    "                if apartment[ni][nj] == 1:\n",
    "                    apartment[ni][nj] = 0\n",
    "                    cnt += 1\n",
    "                    q.append((ni, nj))\n",
    "    return cnt"
   ]
  },
  {
   "cell_type": "code",
   "execution_count": 126,
   "metadata": {},
   "outputs": [
    {
     "name": "stdout",
     "output_type": "stream",
     "text": [
      "3\n",
      "7\n",
      "8\n",
      "9\n"
     ]
    }
   ],
   "source": [
    "result = []\n",
    "for check_i in range(n):\n",
    "    for check_j in range(n):\n",
    "        if apartment[check_i][check_j] == 1:\n",
    "            cnt = 0\n",
    "            cnt = dfs(apartment, cnt, check_i, check_j)\n",
    "            result.append(cnt)\n",
    "result.sort()\n",
    "print(len(result))\n",
    "for _ in result:\n",
    "    print(_)"
   ]
  },
  {
   "cell_type": "code",
   "execution_count": 129,
   "metadata": {},
   "outputs": [
    {
     "name": "stdout",
     "output_type": "stream",
     "text": [
      "3\n",
      "7\n",
      "8\n",
      "9\n"
     ]
    }
   ],
   "source": [
    "result = []\n",
    "\n",
    "for check_i in range(n):\n",
    "    for check_j in range(n):\n",
    "        if apartment[check_i][check_j] == 1:\n",
    "            cnt = 0\n",
    "            cnt = bfs(apartment, cnt, check_i, check_j)\n",
    "            result.append(cnt)\n",
    "result.sort()\n",
    "print(len(result))\n",
    "for _ in result:\n",
    "    print(_)"
   ]
  }
 ],
 "metadata": {
  "kernelspec": {
   "display_name": "Python 3",
   "language": "python",
   "name": "python3"
  },
  "language_info": {
   "codemirror_mode": {
    "name": "ipython",
    "version": 3
   },
   "file_extension": ".py",
   "mimetype": "text/x-python",
   "name": "python",
   "nbconvert_exporter": "python",
   "pygments_lexer": "ipython3",
   "version": "3.6.2"
  }
 },
 "nbformat": 4,
 "nbformat_minor": 2
}
