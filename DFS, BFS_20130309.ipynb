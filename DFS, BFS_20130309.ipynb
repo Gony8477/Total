{
 "cells": [
  {
   "cell_type": "code",
   "execution_count": 12,
   "metadata": {},
   "outputs": [
    {
     "name": "stdout",
     "output_type": "stream",
     "text": [
      "4 5 1\n",
      "1 2\n",
      "1 3\n",
      "1 4\n",
      "2 3\n",
      "3 4\n",
      "1 2 3 4 \n",
      "1 2 3 4 \n"
     ]
    }
   ],
   "source": [
    "import sys\n",
    "from collections import deque\n",
    "\n",
    "\n",
    "n, m, v = map(int, input().split())#map(int, sys.stdin.readline().split())\n",
    "a = [[0 for _ in range(n+1)] for _ in range(n+1)]\n",
    "c = [False] * (n+1)\n",
    "\n",
    "def dfs(now):\n",
    "    c[now] = True\n",
    "    print(now, end=' ')\n",
    "    for i in range(1, n+1):\n",
    "        if a[now][i] == 1 and c[i] is False:\n",
    "            dfs(i)\n",
    "\n",
    "def bfs(v):\n",
    "    c = [False] * (n+1)\n",
    "    q = deque()\n",
    "    q.append(v)\n",
    "    c[v] = True\n",
    "    while q:\n",
    "        now = q.popleft()\n",
    "        print(now, end=' ')\n",
    "        for i in range(1, n+1):\n",
    "            if a[now][i] == 1 and c[i] is False:\n",
    "                c[i] = True\n",
    "                q.append(i)\n",
    "\n",
    "for _ in range(m):\n",
    "    x, y = map(int, input().split())#map(int, sys.stdin.readline().split())\n",
    "    a[x][y] = 1\n",
    "    a[y][x] = 1\n",
    "\n",
    "dfs(v)\n",
    "print()\n",
    "bfs(v)\n",
    "print()"
   ]
  }
 ],
 "metadata": {
  "kernelspec": {
   "display_name": "Python 3",
   "language": "python",
   "name": "python3"
  },
  "language_info": {
   "codemirror_mode": {
    "name": "ipython",
    "version": 3
   },
   "file_extension": ".py",
   "mimetype": "text/x-python",
   "name": "python",
   "nbconvert_exporter": "python",
   "pygments_lexer": "ipython3",
   "version": "3.6.2"
  }
 },
 "nbformat": 4,
 "nbformat_minor": 2
}
