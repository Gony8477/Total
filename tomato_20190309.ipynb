{
 "cells": [
  {
   "cell_type": "code",
   "execution_count": 49,
   "metadata": {},
   "outputs": [],
   "source": [
    "def dfs(start_i, start_j):\n",
    "    for _ in range(4):\n",
    "        next_i = start_i + di[_]\n",
    "        next_j = start_j + dj[_]\n",
    "        if next_i >= 0 and next_i < n and next_j >=0 and next_j < m:\n",
    "            if box[next_i][next_j] > box[start_i][start_j] + 1:\n",
    "                box[next_i][next_j] = box[start_i][start_j] + 1\n",
    "                dfs(next_i, next_j)"
   ]
  },
  {
   "cell_type": "code",
   "execution_count": 60,
   "metadata": {},
   "outputs": [],
   "source": [
    "def bfs():\n",
    "    while q:\n",
    "        start_i, start_j = q.popleft()\n",
    "        for _ in range(4):\n",
    "            next_i = start_i + di[_]\n",
    "            next_j = start_j + dj[_]\n",
    "            if next_i >= 0 and next_i < n and next_j >= 0 and next_j < m:\n",
    "                if box[next_i][next_j] > box[start_i][start_j] + 1:\n",
    "                    box[next_i][next_j] = box[start_i][start_j] + 1\n",
    "                    q.append((next_i, next_j))"
   ]
  },
  {
   "cell_type": "code",
   "execution_count": 69,
   "metadata": {},
   "outputs": [
    {
     "name": "stdout",
     "output_type": "stream",
     "text": [
      "6 4\n",
      "0 -1 0 0 0 0\n",
      "-1 0 0 0 0 0\n",
      "0 -1 0 0 0 0\n",
      "0 -1 0 0 0 1\n",
      "-1\n"
     ]
    }
   ],
   "source": [
    "# DFS/ 런타임 에러\n",
    "import sys\n",
    "\n",
    "m, n = map(int, input().split())\n",
    "box = []\n",
    "\n",
    "for i in range(n):\n",
    "    box.append([int(_) for _ in input().split()])\n",
    "\n",
    "for x in range(n):\n",
    "    for y in range(m):\n",
    "        if box[x][y] == 0:\n",
    "            box[x][y] = sys.maxsize\n",
    "        elif box[x][y] == 1:\n",
    "            box[x][y] = 0\n",
    "\n",
    "di = [1, -1, 0, 0]\n",
    "dj = [0, 0, 1, -1]\n",
    "\n",
    "for i in range(n):\n",
    "    for j in range(m):\n",
    "        if box[i][j] == 0:\n",
    "            start_i, start_j = i, j\n",
    "            dfs(start_i, start_j)\n",
    "\n",
    "if max(map(max, box)) == sys.maxsize:\n",
    "    print(-1)\n",
    "else:\n",
    "    print(max(map(max, box)))"
   ]
  },
  {
   "cell_type": "code",
   "execution_count": 66,
   "metadata": {},
   "outputs": [
    {
     "name": "stdout",
     "output_type": "stream",
     "text": [
      "6 4\n",
      "0 0 0 0 0 0 \n",
      "0 0 0 0 0 0\n",
      "0 0 0 0 0 0\n",
      "0 0 0 0 0 1\n",
      "8\n"
     ]
    }
   ],
   "source": [
    "# BFS/ 통과\n",
    "import sys\n",
    "from collections import deque\n",
    "\n",
    "m, n = map(int, input().split())\n",
    "box = []\n",
    "\n",
    "for i in range(n):\n",
    "    box.append([int(_) for _ in input().split()])\n",
    "\n",
    "for x in range(n):\n",
    "    for y in range(m):\n",
    "        if box[x][y] == 0:\n",
    "            box[x][y] = sys.maxsize\n",
    "        elif box[x][y] == 1:\n",
    "            box[x][y] = 0\n",
    "\n",
    "di = [1, -1, 0, 0]\n",
    "dj = [0, 0, 1, -1]\n",
    "\n",
    "q = deque()\n",
    "for i in range(n):\n",
    "    for j in range(m):\n",
    "        if box[i][j] == 0:\n",
    "            q.append((i, j))\n",
    "            \n",
    "bfs()\n",
    "\n",
    "if max(map(max, box)) == sys.maxsize:\n",
    "    print(-1)\n",
    "else:\n",
    "    print(max(map(max, box)))"
   ]
  },
  {
   "cell_type": "code",
   "execution_count": 73,
   "metadata": {},
   "outputs": [],
   "source": [
    "if 0:\n",
    "    print(\"통과\")"
   ]
  }
 ],
 "metadata": {
  "kernelspec": {
   "display_name": "Python 3",
   "language": "python",
   "name": "python3"
  },
  "language_info": {
   "codemirror_mode": {
    "name": "ipython",
    "version": 3
   },
   "file_extension": ".py",
   "mimetype": "text/x-python",
   "name": "python",
   "nbconvert_exporter": "python",
   "pygments_lexer": "ipython3",
   "version": "3.6.2"
  }
 },
 "nbformat": 4,
 "nbformat_minor": 2
}
