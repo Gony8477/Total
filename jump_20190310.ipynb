{
 "cells": [
  {
   "cell_type": "code",
   "execution_count": 13,
   "metadata": {},
   "outputs": [],
   "source": [
    "import sys\n",
    "\n",
    "def dfs(cnt, start_x, start_y):\n",
    "    dx = [jump[start_x][start_y], 0]\n",
    "    dy = [0, jump[start_x][start_y]]\n",
    "    for _ in range(2):\n",
    "        next_x = start_x + dx[_]\n",
    "        next_y = start_y + dy[_]\n",
    "        if next_x < N and  next_y < N:\n",
    "            if jump[next_x][next_y]:\n",
    "                dfs(cnt, next_x, next_y)\n",
    "            cnt += 1\n",
    "    return cnt"
   ]
  },
  {
   "cell_type": "code",
   "execution_count": 4,
   "metadata": {},
   "outputs": [],
   "source": [
    "from collections import deque\n",
    "\n",
    "def bfs():\n",
    "    q = deque()\n",
    "    cnt = 0\n",
    "    q.append((0, 0))\n",
    "    while q:\n",
    "        start_x, start_y = q.popleft()\n",
    "        dx = [jump[start_x][start_y], 0]\n",
    "        dy = [0, jump[start_x][start_y]]\n",
    "        for _ in range(2):\n",
    "            next_x = start_x + dx[_]\n",
    "            next_y = start_y + dy[_]\n",
    "            if next_x >= 0  and next_x < N and next_y >= 0 and next_y < N:\n",
    "                if jump[next_x][next_y] != 0:\n",
    "                    q.append((next_x, next_y))\n",
    "                else:\n",
    "                    cnt += 1\n",
    "    print(cnt)"
   ]
  },
  {
   "cell_type": "code",
   "execution_count": 14,
   "metadata": {},
   "outputs": [
    {
     "name": "stdout",
     "output_type": "stream",
     "text": [
      "4\n",
      "2 3 3 1\n",
      "1 2 1 3\n",
      "1 2 3 1\n",
      "3 1 1 0\n",
      "3\n"
     ]
    }
   ],
   "source": [
    "N = int(input())\n",
    "jump = []\n",
    "\n",
    "for _ in range(N):\n",
    "    jump.append([int(_) for _ in input().split()])\n",
    "bfs()"
   ]
  },
  {
   "cell_type": "code",
   "execution_count": 12,
   "metadata": {},
   "outputs": [
    {
     "name": "stdout",
     "output_type": "stream",
     "text": [
      "4\n",
      "2 3 3 1\n",
      "1 2 1 3\n",
      "1 2 3 1\n",
      "3 1 1 0\n",
      "9\n"
     ]
    }
   ],
   "source": [
    "N = int(input())\n",
    "jump = []\n",
    "\n",
    "for _ in range(N):\n",
    "    jump.append([int(_) for _ in input().split()])\n",
    "\n",
    "cnt = dfs(0, 0, 0)\n",
    "print(cnt)"
   ]
  },
  {
   "cell_type": "code",
   "execution_count": 1,
   "metadata": {},
   "outputs": [
    {
     "name": "stdout",
     "output_type": "stream",
     "text": [
      "4\n",
      "2 3 3 1\n",
      "1 2 1 3\n",
      "1 2 3 1\n",
      "3 1 1 0\n",
      "3\n",
      "[[1, 0, 1, 0], [0, 0, 0, 0], [1, 1, 0, 1], [1, 0, 1, 3]]\n"
     ]
    }
   ],
   "source": [
    "# DP 문제로 해결\n",
    "N = int(input())\n",
    "jump = []\n",
    "for _ in range(N):\n",
    "    jump.append([int(_) for _ in input().split()])\n",
    "\n",
    "dp = [[0 for _ in range(N)] for _ in range(N)]\n",
    "dp[0][0] = 1\n",
    "\n",
    "for i in range(N):\n",
    "    for j in range(N):\n",
    "        if jump[i][j] == 0:\n",
    "            continue\n",
    "        if i + jump[i][j] < N:\n",
    "            dp[i+jump[i][j]][j] += dp[i][j]\n",
    "        if j + jump[i][j] < N:\n",
    "            dp[i][j + jump[i][j]] += dp[i][j]\n",
    "\n",
    "print(dp[N-1][N-1])\n",
    "print(dp)"
   ]
  }
 ],
 "metadata": {
  "kernelspec": {
   "display_name": "Python 3",
   "language": "python",
   "name": "python3"
  },
  "language_info": {
   "codemirror_mode": {
    "name": "ipython",
    "version": 3
   },
   "file_extension": ".py",
   "mimetype": "text/x-python",
   "name": "python",
   "nbconvert_exporter": "python",
   "pygments_lexer": "ipython3",
   "version": "3.6.2"
  }
 },
 "nbformat": 4,
 "nbformat_minor": 2
}
