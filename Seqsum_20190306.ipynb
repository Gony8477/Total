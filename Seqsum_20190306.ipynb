{
 "cells": [
  {
   "cell_type": "code",
   "execution_count": 11,
   "metadata": {},
   "outputs": [],
   "source": [
    "def seqsum(test, array):\n",
    "    dp = [[0 for i in range(test)] for j in range(2)]\n",
    "    dp[0] = array\n",
    "    dp[1][0] = dp[0][0]\n",
    "    for i in range(1, test):\n",
    "        if dp[1][i-1] + dp[0][i] > dp[0][i]:\n",
    "            dp[1][i] = dp[1][i-1] + dp[0][i]\n",
    "        else:\n",
    "            dp[1][i] = dp[0][i]\n",
    "    print(max(dp[1]))"
   ]
  },
  {
   "cell_type": "code",
   "execution_count": 12,
   "metadata": {},
   "outputs": [
    {
     "name": "stdout",
     "output_type": "stream",
     "text": [
      "10\n",
      "10 -4 3 1 5 6 -35 12 21 -1\n",
      "33\n"
     ]
    }
   ],
   "source": [
    "test = int(input())\n",
    "array = [int(x) for x in input().split()]\n",
    "\n",
    "seqsum(test, array)"
   ]
  }
 ],
 "metadata": {
  "kernelspec": {
   "display_name": "Python 3",
   "language": "python",
   "name": "python3"
  },
  "language_info": {
   "codemirror_mode": {
    "name": "ipython",
    "version": 3
   },
   "file_extension": ".py",
   "mimetype": "text/x-python",
   "name": "python",
   "nbconvert_exporter": "python",
   "pygments_lexer": "ipython3",
   "version": "3.6.2"
  }
 },
 "nbformat": 4,
 "nbformat_minor": 2
}
