{
 "cells": [
  {
   "cell_type": "code",
   "execution_count": 5,
   "metadata": {},
   "outputs": [],
   "source": [
    "def LCS(test1, test2):\n",
    "    s1 = list(test1)\n",
    "    s2 = list(test2)\n",
    "    ##DP 생성\n",
    "    dp = [[0 for j in range(len(s1)+1)] for i in range(len(s2)+1)]\n",
    "    \n",
    "    ## 두번째 문자열의 문자 순서대로 첫번째 문자열의 문자수랑 비교\n",
    "    # 같으면 이전 끝자리에서 +1, 다르면 위, 왼쪽에서 큰값 반환\n",
    "    for i in range(1, len(s2)+1):\n",
    "        for j in range(1, len(s1)+1):\n",
    "            if s2[i-1] == s1[j-1]:\n",
    "                dp[i][j] = dp[i-1][j-1] + 1\n",
    "            else:\n",
    "                dp[i][j] = max(dp[i][j-1], dp[i-1][j])\n",
    "\n",
    "    print(dp[len(s2)][len(s1)])"
   ]
  },
  {
   "cell_type": "code",
   "execution_count": 6,
   "metadata": {},
   "outputs": [
    {
     "name": "stdout",
     "output_type": "stream",
     "text": [
      "ACAYKP\n",
      "CAPCAK\n",
      "4\n"
     ]
    }
   ],
   "source": [
    "test1 = str(input())\n",
    "test2 = str(input())\n",
    "\n",
    "LCS(test1, test2)    "
   ]
  }
 ],
 "metadata": {
  "kernelspec": {
   "display_name": "Python 3",
   "language": "python",
   "name": "python3"
  },
  "language_info": {
   "codemirror_mode": {
    "name": "ipython",
    "version": 3
   },
   "file_extension": ".py",
   "mimetype": "text/x-python",
   "name": "python",
   "nbconvert_exporter": "python",
   "pygments_lexer": "ipython3",
   "version": "3.6.2"
  }
 },
 "nbformat": 4,
 "nbformat_minor": 2
}
