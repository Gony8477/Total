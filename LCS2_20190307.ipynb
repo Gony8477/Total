{
 "cells": [
  {
   "cell_type": "code",
   "execution_count": 20,
   "metadata": {},
   "outputs": [
    {
     "name": "stdout",
     "output_type": "stream",
     "text": [
      "ACAYKP\n",
      "CAPCAK\n",
      "4\n",
      "ACAK\n"
     ]
    }
   ],
   "source": [
    "s1 = input()\n",
    "s2 = input()\n",
    "\n",
    "dp = [[0 for j in range(len(s1)+1)] for i in range(len(s2)+1)]\n",
    "\n",
    "for i in range(1, len(s2)+1):\n",
    "    for j in range(1, len(s1)+1):\n",
    "        if s2[i-1] == s1[j-1]:\n",
    "            dp[i][j] = dp[i-1][j-1] + 1\n",
    "        else:\n",
    "            dp[i][j] = max(dp[i][j-1], dp[i-1][j])\n",
    "    \n",
    "result = []\n",
    "\n",
    "while (dp[i][j] != 0):\n",
    "    if dp[i][j] == dp[i-1][j]:\n",
    "        i -= 1\n",
    "    elif dp[i][j] == dp[i][j-1]:\n",
    "        j -= 1\n",
    "    else:\n",
    "        result.append(s2[i-1])\n",
    "        i -= 1\n",
    "        j -= 1\n",
    "result.reverse()\n",
    "print(len(result))\n",
    "print(\"\".join(result))"
   ]
  }
 ],
 "metadata": {
  "kernelspec": {
   "display_name": "Python 3",
   "language": "python",
   "name": "python3"
  },
  "language_info": {
   "codemirror_mode": {
    "name": "ipython",
    "version": 3
   },
   "file_extension": ".py",
   "mimetype": "text/x-python",
   "name": "python",
   "nbconvert_exporter": "python",
   "pygments_lexer": "ipython3",
   "version": "3.6.2"
  }
 },
 "nbformat": 4,
 "nbformat_minor": 2
}
