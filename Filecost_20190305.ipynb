{
 "cells": [
  {
   "cell_type": "code",
   "execution_count": 1,
   "metadata": {},
   "outputs": [],
   "source": [
    "import sys\n",
    "\n",
    "def solve(dp, C, S, start, end):\n",
    "    if start >= end:\n",
    "        return 0\n",
    "    \n",
    "    if end == start + 1:\n",
    "        return C[start] + C[end]\n",
    "    \n",
    "    if dp[start][end] < sys.maxsize:\n",
    "        return dp[start][end]\n",
    "    \n",
    "    for i in range(start, end):\n",
    "        temp = solve(dp, C, S, start, i) + solve(dp, C, S, i+1, end) + S[end] - S[start-1]\n",
    "        dp[start][end] = min(dp[start][end], temp)\n",
    "    \n",
    "    return dp[start][end]"
   ]
  },
  {
   "cell_type": "code",
   "execution_count": 4,
   "metadata": {},
   "outputs": [
    {
     "name": "stdout",
     "output_type": "stream",
     "text": [
      "2\n",
      "4\n",
      "40 30 30 50\n",
      "300\n",
      "15\n",
      "1 21 3 4 5 35 5 4 3 5 98 21 14 17 32\n",
      "864\n"
     ]
    }
   ],
   "source": [
    "import sys\n",
    "\n",
    "test = int(input())\n",
    "\n",
    "for i in range(test):\n",
    "    K = int(input())\n",
    "    C = [0] + [int(x) for x in input().split()]\n",
    "    S = [0 for x in range(K+1)]\n",
    "    dp = [[0]* (K+1) for i in range(K+1)]\n",
    "    \n",
    "    for i in range(1, K+1):\n",
    "        S[i] = S[i-1] + C[i]\n",
    "    for i in range(1, K+1):\n",
    "        for j in range(1, K+1):\n",
    "            dp[i][j] = sys.maxsize\n",
    "    print(solve(dp, C, S, 1, K))"
   ]
  },
  {
   "cell_type": "code",
   "execution_count": null,
   "metadata": {},
   "outputs": [],
   "source": []
  }
 ],
 "metadata": {
  "kernelspec": {
   "display_name": "Python 3",
   "language": "python",
   "name": "python3"
  },
  "language_info": {
   "codemirror_mode": {
    "name": "ipython",
    "version": 3
   },
   "file_extension": ".py",
   "mimetype": "text/x-python",
   "name": "python",
   "nbconvert_exporter": "python",
   "pygments_lexer": "ipython3",
   "version": "3.6.2"
  }
 },
 "nbformat": 4,
 "nbformat_minor": 2
}
