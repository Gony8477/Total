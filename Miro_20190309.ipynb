{
 "cells": [
  {
   "cell_type": "code",
   "execution_count": 46,
   "metadata": {},
   "outputs": [],
   "source": [
    "# 런타임 오류\n",
    "def dfs(start_i, start_j):\n",
    "    if start_i == n-1 and start_j == m-1:\n",
    "        return\n",
    "    for _ in range(4):\n",
    "        next_i = start_i + di[_]\n",
    "        next_j = start_j + dj[_]\n",
    "        \n",
    "        if next_i >= 0 and next_i < n and next_j >= 0 and next_j < m:\n",
    "            if miro[next_i][next_j] != 0 and miro[next_i][next_j] > miro[start_i][start_j] + 1:\n",
    "                miro[next_i][next_j] = miro[start_i][start_j] + 1\n",
    "                dfs(next_i, next_j)"
   ]
  },
  {
   "cell_type": "code",
   "execution_count": 50,
   "metadata": {},
   "outputs": [],
   "source": [
    "# 통과\n",
    "from collections import deque\n",
    "\n",
    "def bfs(start_i, start_j):\n",
    "    q = deque()\n",
    "    q.append((start_i, start_j))\n",
    "    while q:\n",
    "        start_i, start_j = q.popleft()\n",
    "        for _ in range(4):\n",
    "            next_i = start_i + di[_]\n",
    "            next_j = start_j + dj[_]\n",
    "            if next_i >= 0 and next_i < n and next_j >= 0 and next_j < m:\n",
    "                if miro[next_i][next_j] != 0 and miro[next_i][next_j] > miro[start_i][start_j] + 1:\n",
    "                    miro[next_i][next_j] = miro[start_i][start_j] + 1\n",
    "                    q.append((next_i, next_j))"
   ]
  },
  {
   "cell_type": "code",
   "execution_count": 51,
   "metadata": {},
   "outputs": [
    {
     "name": "stdout",
     "output_type": "stream",
     "text": [
      "4 6\n",
      "101111\n",
      "101010\n",
      "101011\n",
      "111011\n",
      "15\n"
     ]
    }
   ],
   "source": [
    "# 입력 및 출력(DFS, BFS 둘 중 하나 사용)\n",
    "import sys\n",
    "\n",
    "n, m = map(int, input().split())\n",
    "miro = []\n",
    "\n",
    "for _ in range(n):\n",
    "    x = input()\n",
    "    miro.append([int(_) for _ in x])\n",
    "\n",
    "for i in range(n):\n",
    "    for j in range(m):\n",
    "        if miro[i][j] == 1:\n",
    "            miro[i][j] = sys.maxsize            \n",
    "\n",
    "miro[0][0] = 1\n",
    "start_i, start_j = 0, 0\n",
    "di = [1, -1, 0, 0]\n",
    "dj = [0, 0, 1, -1]\n",
    "#dfs(start_i, start_j)\n",
    "bfs(start_i, start_j)\n",
    "\n",
    "print(miro[n-1][m-1])"
   ]
  },
  {
   "cell_type": "markdown",
   "metadata": {},
   "source": []
  }
 ],
 "metadata": {
  "kernelspec": {
   "display_name": "Python 3",
   "language": "python",
   "name": "python3"
  },
  "language_info": {
   "codemirror_mode": {
    "name": "ipython",
    "version": 3
   },
   "file_extension": ".py",
   "mimetype": "text/x-python",
   "name": "python",
   "nbconvert_exporter": "python",
   "pygments_lexer": "ipython3",
   "version": "3.6.2"
  }
 },
 "nbformat": 4,
 "nbformat_minor": 2
}
