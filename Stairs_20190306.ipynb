{
 "cells": [
  {
   "cell_type": "code",
   "execution_count": 104,
   "metadata": {},
   "outputs": [
    {
     "name": "stdout",
     "output_type": "stream",
     "text": [
      "1\n",
      "9\n"
     ]
    }
   ],
   "source": [
    "###DP에서 배열 형성시 꼭 참고\n",
    "dp = [[0 for j in range(10)] for i in range(101)]\n",
    "digit = int(input())\n",
    "\n",
    "### 자리수가 1일때\n",
    "for i in range(1, 10):\n",
    "    dp[1][i] = 1\n",
    "    \n",
    "### 자릿수가 2 이상일때\n",
    "for i in range(2, digit+1):\n",
    "    for j in range(10):\n",
    "        if j==0:\n",
    "            dp[i][j] = dp[i-1][1]%1000000000\n",
    "        elif j==9:\n",
    "            dp[i][j] = dp[i-1][8]%1000000000\n",
    "        else:\n",
    "            dp[i][j] = (dp[i-1][j-1] + dp[i-1][j+1])%1000000000\n",
    "\n",
    "print(sum(dp[digit])%1000000000)"
   ]
  }
 ],
 "metadata": {
  "kernelspec": {
   "display_name": "Python 3",
   "language": "python",
   "name": "python3"
  },
  "language_info": {
   "codemirror_mode": {
    "name": "ipython",
    "version": 3
   },
   "file_extension": ".py",
   "mimetype": "text/x-python",
   "name": "python",
   "nbconvert_exporter": "python",
   "pygments_lexer": "ipython3",
   "version": "3.6.2"
  }
 },
 "nbformat": 4,
 "nbformat_minor": 2
}
