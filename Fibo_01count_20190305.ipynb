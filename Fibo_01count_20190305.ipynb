{
 "cells": [
  {
   "cell_type": "code",
   "execution_count": 4,
   "metadata": {},
   "outputs": [
    {
     "name": "stdout",
     "output_type": "stream",
     "text": [
      "3\n",
      "3\n",
      "1 2\n",
      "5\n",
      "3 5\n",
      "2\n",
      "1 1\n"
     ]
    }
   ],
   "source": [
    "def fibo_count(n):\n",
    "    count_zero = [1, 0]\n",
    "    count_one = [0, 1]\n",
    "    \n",
    "    for i in range(2, n+1):\n",
    "        count_zero.append(count_zero[i-1] + count_zero[i-2])\n",
    "        count_one.append(count_one[i-1] + count_one[i-2])\n",
    "    print(count_zero[n], count_one[n])\n",
    "\n",
    "test = int(input())\n",
    "\n",
    "for i in range(test):\n",
    "    num = int(input())\n",
    "    fibo_count(num)"
   ]
  }
 ],
 "metadata": {
  "kernelspec": {
   "display_name": "Python 3",
   "language": "python",
   "name": "python3"
  },
  "language_info": {
   "codemirror_mode": {
    "name": "ipython",
    "version": 3
   },
   "file_extension": ".py",
   "mimetype": "text/x-python",
   "name": "python",
   "nbconvert_exporter": "python",
   "pygments_lexer": "ipython3",
   "version": "3.6.2"
  }
 },
 "nbformat": 4,
 "nbformat_minor": 2
}
